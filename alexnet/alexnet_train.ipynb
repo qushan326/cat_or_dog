{
 "cells": [
  {
   "cell_type": "code",
   "execution_count": 1,
   "metadata": {},
   "outputs": [],
   "source": [
    "import logging\n",
    "logging.basicConfig(level=logging.INFO)\n",
    "import numpy as np\n",
    "from matplotlib import pyplot as plt\n",
    "import tensorflow as tf\n",
    "import time"
   ]
  },
  {
   "cell_type": "code",
   "execution_count": 2,
   "metadata": {},
   "outputs": [
    {
     "name": "stderr",
     "output_type": "stream",
     "text": [
      "INFO:root:name_id_map: {'dog': 1, 'cat': 0}\n",
      "INFO:root:id_name_map: {0: 'cat', 1: 'dog'}\n",
      "INFO:root:n_classes: 2\n"
     ]
    }
   ],
   "source": [
    "train_path = 'data/train.record'\n",
    "save_path = 'model/alexnet/alexnet.ckpt'\n",
    "\n",
    "name_id_map = {'cat': 0, 'dog': 1}\n",
    "id_name_map = {id:name for name, id in name_id_map.items()}\n",
    "n_classes = len(name_id_map)\n",
    "logging.info('name_id_map: %s', name_id_map)\n",
    "logging.info('id_name_map: %s', id_name_map)\n",
    "logging.info('n_classes: %d', n_classes)"
   ]
  },
  {
   "cell_type": "markdown",
   "metadata": {},
   "source": [
    "### input layer"
   ]
  },
  {
   "cell_type": "code",
   "execution_count": 4,
   "metadata": {},
   "outputs": [
    {
     "name": "stderr",
     "output_type": "stream",
     "text": [
      "INFO:root:x_.shape = [None, 227, 227, 3]\n",
      "INFO:root:y_.shape = [None, 2]\n"
     ]
    }
   ],
   "source": [
    "# Input: N*227*227*3\n",
    "channels0 = 3\n",
    "x_ = tf.placeholder(tf.float32, [None, 227, 227, channels0])\n",
    "y_ = tf.placeholder(tf.int32, [None, n_classes])\n",
    "logging.info('x_.shape = %s', x_.shape.as_list())\n",
    "logging.info('y_.shape = %s', y_.shape.as_list())"
   ]
  },
  {
   "cell_type": "markdown",
   "metadata": {},
   "source": [
    "### 1st layer: conv1(bn) => lrn1 => pool1"
   ]
  },
  {
   "cell_type": "code",
   "execution_count": 7,
   "metadata": {},
   "outputs": [
    {
     "name": "stderr",
     "output_type": "stream",
     "text": [
      "INFO:root:weight1: name=layer1_1/weight1:0, shape=[11, 11, 3, 96]\n",
      "INFO:root:scale1: name=layer1_1/scale1:0, shape=[96]\n",
      "INFO:root:offset1: name=layer1_1/offset1:0, shape=[96]\n",
      "INFO:root:mean1: name=layer1_1/mean1:0, shape=[96]\n",
      "INFO:root:var1: name=layer1_1/var1:0, shape=[96]\n",
      "INFO:root:conv1.shape: [None, 55, 55, 96]\n",
      "INFO:root:lrn1.shape: [None, 55, 55, 96]\n",
      "INFO:root:pool1.shape: [None, 27, 27, 96]\n"
     ]
    }
   ],
   "source": [
    "with tf.variable_scope('layer1'):\n",
    "    # C1: N*227*227*3 => C11*11s4*4V => N*55*55*96\n",
    "    channels1 = 96\n",
    "    weight1 = tf.Variable(tf.truncated_normal([11, 11, channels0, channels1], stddev=0.01), name='weight1')\n",
    "    conv1 = tf.nn.conv2d(x_, filter=weight1, strides=[1, 4, 4, 1], padding='VALID')\n",
    "    # compare with bias\n",
    "    # bias1 = tf.Variable(tf.constant(0.1, dtype=tf.float32, shape=[channels1]))\n",
    "    # conv1 = tf.nn.bias_add(conv1, bias1)\n",
    "    # batch normalization\n",
    "    # y = (x - batch_mean) / sqrt(batch_var + epsilon)\n",
    "    # z = scale * y + offset\n",
    "    scale1 = tf.Variable(tf.ones([channels1]), name='scale1')\n",
    "    offset1 = tf.Variable(tf.zeros(channels1), name='offset1')\n",
    "    mean1 = tf.Variable(tf.zeros([channels1]), trainable=False, name='mean1')\n",
    "    var1 = tf.Variable(tf.ones([channels1]), trainable=False, name='var1')\n",
    "    batch_mean1, batch_var1 = tf.nn.moments(conv1, [0, 1, 2])\n",
    "    epsilon1 = 0.0001\n",
    "    train_mean1 = tf.assign(mean1, mean1 * 0.999 + batch_mean1 * 0.001)\n",
    "    train_var1 = tf.assign(var1, var1 * 0.999 + batch_var1 * 0.001)\n",
    "    with tf.control_dependencies([train_mean1, train_var1]):\n",
    "        conv1 = tf.nn.batch_normalization(conv1, batch_mean1, batch_var1, offset1, scale1, epsilon1)\n",
    "    conv1 = tf.nn.relu(conv1)\n",
    "    logging.info('weight1: name=%s, shape=%s', weight1.name, weight1.shape.as_list())\n",
    "    logging.info('scale1: name=%s, shape=%s', scale1.name, scale1.shape.as_list())\n",
    "    logging.info('offset1: name=%s, shape=%s', offset1.name, offset1.shape.as_list())\n",
    "    logging.info('mean1: name=%s, shape=%s', mean1.name, mean1.shape.as_list())\n",
    "    logging.info('var1: name=%s, shape=%s', var1.name, var1.shape.as_list())\n",
    "    logging.info('conv1.shape: %s', conv1.shape.as_list())\n",
    "\n",
    "    # L1: N*55*55*96 => LRN => N*55*55*96 \n",
    "    # sqr_sum[a, b, c, d] = sum(input[a, b, c, d-depth_radius:d+depth_radius+1] ** 2)\n",
    "    # output = input / ((bias + alpha * sqr_sum) ** beta)\n",
    "    lrn1 = tf.nn.lrn(conv1, depth_radius=4, bias=1.0, alpha=0.001/9, beta=0.75)\n",
    "    logging.info('lrn1.shape: %s', lrn1.shape.as_list())\n",
    "\n",
    "    # P1: N*55*55*96 => P3*3s2*2V => N*27*27*96\n",
    "    pool1 = tf.nn.max_pool(lrn1, ksize=[1, 3, 3, 1], strides=[1, 2, 2, 1], padding='VALID')\n",
    "    logging.info('pool1.shape: %s', pool1.shape.as_list())\n"
   ]
  },
  {
   "cell_type": "markdown",
   "metadata": {},
   "source": [
    "### 2nd layer: conv2（bn） => lrn2 => pool2"
   ]
  },
  {
   "cell_type": "code",
   "execution_count": 8,
   "metadata": {},
   "outputs": [
    {
     "name": "stderr",
     "output_type": "stream",
     "text": [
      "INFO:root:weight2: name=layer2/weight2:0, shape=[5, 5, 96, 256]\n",
      "INFO:root:scale2: name=layer2/scale2:0, shape=[256]\n",
      "INFO:root:offset2: name=layer2/offset2:0, shape=[256]\n",
      "INFO:root:mean2: name=layer2/mean2:0, shape=[256]\n",
      "INFO:root:var2: name=layer2/var2:0, shape=[256]\n",
      "INFO:root:conv2.shape: [None, 27, 27, 256]\n",
      "INFO:root:lrn2.shape: [None, 27, 27, 256]\n",
      "INFO:root:pool2.shape: [None, 13, 13, 256]\n"
     ]
    }
   ],
   "source": [
    "with tf.variable_scope('layer2'):\n",
    "    # C2: N*27*27*96 => C5*5s1*1S => N*27*27*256\n",
    "    channels2 = 256\n",
    "    weight2 = tf.Variable(tf.truncated_normal([5, 5, channels1, channels2], stddev=0.01), name='weight2')\n",
    "    conv2 = tf.nn.conv2d(pool1, filter=weight2, strides=[1, 1, 1, 1], padding='SAME')\n",
    "    # compare with bias\n",
    "    # bias2 = tf.Variable(tf.constant(0.1, dtype=tf.float32, shape=[channels2]))\n",
    "    # conv2 = tf.nn.bias_add(conv2, bias2)\n",
    "    # batch normalization\n",
    "    # y = (x - batch_mean) / sqrt(batch_var + epsilon)\n",
    "    # z = scale * y + offset\n",
    "    scale2 = tf.Variable(tf.ones([channels2]), name='scale2')\n",
    "    offset2 = tf.Variable(tf.zeros(channels2), name='offset2')\n",
    "    mean2 = tf.Variable(tf.zeros([channels2]), trainable=False, name='mean2')\n",
    "    var2 = tf.Variable(tf.ones([channels2]), trainable=False, name='var2')\n",
    "    batch_mean2, batch_var2 = tf.nn.moments(conv2, [0, 1, 2])\n",
    "    epsilon2 = 0.0001\n",
    "    train_mean2 = tf.assign(mean2, mean2 * 0.999 + batch_mean2 * 0.001)\n",
    "    train_var2 = tf.assign(var2, var2 * 0.999 + batch_var2 * 0.001)\n",
    "    with tf.control_dependencies([train_mean2, train_var2]):\n",
    "        conv2 = tf.nn.batch_normalization(conv2,             batch_mean2, batch_var2, offset2, scale2, epsilon2)\n",
    "    conv2 = tf.nn.relu(conv2)\n",
    "    logging.info('weight2: name=%s, shape=%s', weight2.name, weight2.shape.as_list())\n",
    "    logging.info('scale2: name=%s, shape=%s', scale2.name, scale2.shape.as_list())\n",
    "    logging.info('offset2: name=%s, shape=%s', offset2.name, offset2.shape.as_list())\n",
    "    logging.info('mean2: name=%s, shape=%s', mean2.name, mean2.shape.as_list())\n",
    "    logging.info('var2: name=%s, shape=%s', var2.name, var2.shape.as_list())\n",
    "    logging.info('conv2.shape: %s', conv2.shape.as_list())\n",
    "\n",
    "    # L2: N*27*27*256 => LRN => N*27*27*256 \n",
    "    # sqr_sum[a, b, c, d] = sum(input[a, b, c, d-depth_radius:d + depth_radius+1] ** 2)\n",
    "    # output = input / ((bias + alpha * sqr_sum) ** beta)\n",
    "    lrn2 = tf.nn.lrn(conv2, depth_radius=4, bias=1.0, alpha=0.001/9, beta=0.75)\n",
    "    logging.info('lrn2.shape: %s', lrn2.shape.as_list())\n",
    "\n",
    "    # P2: N*27*27*256 => P3*3s2*2V => N*13*13*256\n",
    "    pool2 = tf.nn.max_pool(lrn2, ksize=[1, 3, 3, 1], strides=[1, 2, 2, 1], padding='VALID')\n",
    "    logging.info('pool2.shape: %s', pool2.shape.as_list())"
   ]
  },
  {
   "cell_type": "markdown",
   "metadata": {},
   "source": [
    "### 3rd layer: conv3(bn)"
   ]
  },
  {
   "cell_type": "code",
   "execution_count": 9,
   "metadata": {},
   "outputs": [
    {
     "name": "stderr",
     "output_type": "stream",
     "text": [
      "INFO:root:weight3: name=layer3/weight3:0, shape=[3, 3, 256, 384]\n",
      "INFO:root:scale3: name=layer3/scale3:0, shape=[384]\n",
      "INFO:root:offset3: name=layer3/offset3:0, shape=[384]\n",
      "INFO:root:mean3: name=layer3/mean3:0, shape=[384]\n",
      "INFO:root:var3: name=layer3/var3:0, shape=[384]\n",
      "INFO:root:conv3.shape: [None, 13, 13, 384]\n"
     ]
    }
   ],
   "source": [
    "with tf.variable_scope('layer3'):\n",
    "    # C3: N*13*13*256 => C3*3s1*1S => N*13*13*384\n",
    "    channels3 = 384\n",
    "    weight3 = tf.Variable(tf.truncated_normal([3, 3, channels2, channels3], stddev=0.01), name='weight3')\n",
    "    conv3 = tf.nn.conv2d(pool2, filter=weight3, strides=[1, 1, 1, 1], padding='SAME')\n",
    "    # compare with bias\n",
    "    # bias3 = tf.Variable(tf.constant(0.1, dtype=tf.float32, shape=[channels3]))\n",
    "    # conv3 = tf.nn.bias_add(conv3, bias3)\n",
    "    # batch normalization\n",
    "    # y = (x - batch_mean) / sqrt(batch_var + epsilon)\n",
    "    # z = scale * y + offset\n",
    "    scale3 = tf.Variable(tf.ones([channels3]), name='scale3')\n",
    "    offset3 = tf.Variable(tf.zeros(channels3), name='offset3')\n",
    "    mean3 = tf.Variable(tf.zeros([channels3]), trainable=False, name='mean3')\n",
    "    var3 = tf.Variable(tf.ones([channels3]), trainable=False, name='var3')\n",
    "    batch_mean3, batch_var3 = tf.nn.moments(conv3, [0, 1, 2])\n",
    "    epsilon3 = 0.0001\n",
    "    train_mean3 = tf.assign(mean3, mean3 * 0.999 + batch_mean3 * 0.001)\n",
    "    train_var3 = tf.assign(var3, var3 * 0.999 + batch_var3 * 0.001)\n",
    "    with tf.control_dependencies([train_mean3, train_var3]):\n",
    "        conv3 = tf.nn.batch_normalization(conv3, batch_mean3, batch_var3, offset3, scale3, epsilon3)\n",
    "    conv3 = tf.nn.relu(conv3)\n",
    "    logging.info('weight3: name=%s, shape=%s', weight3.name, weight3.shape.as_list())\n",
    "    logging.info('scale3: name=%s, shape=%s', scale3.name, scale3.shape.as_list())\n",
    "    logging.info('offset3: name=%s, shape=%s', offset3.name, offset3.shape.as_list())\n",
    "    logging.info('mean3: name=%s, shape=%s', mean3.name, mean3.shape.as_list())\n",
    "    logging.info('var3: name=%s, shape=%s', var3.name, var3.shape.as_list())\n",
    "    logging.info('conv3.shape: %s', conv3.shape.as_list())"
   ]
  },
  {
   "cell_type": "markdown",
   "metadata": {},
   "source": [
    "### 4th layer: conv4(bn)"
   ]
  },
  {
   "cell_type": "code",
   "execution_count": 10,
   "metadata": {},
   "outputs": [
    {
     "name": "stderr",
     "output_type": "stream",
     "text": [
      "INFO:root:weight4: name=layer4/weight4:0, shape=[3, 3, 384, 384]\n",
      "INFO:root:scale4: name=layer4/scale4:0, shape=[384]\n",
      "INFO:root:offset4: name=layer4/offset4:0, shape=[384]\n",
      "INFO:root:mean4: name=layer4/mean4:0, shape=[384]\n",
      "INFO:root:var4: name=layer4/var4:0, shape=[384]\n",
      "INFO:root:conv4.shape: [None, 13, 13, 384]\n"
     ]
    }
   ],
   "source": [
    "with tf.variable_scope('layer4'):\n",
    "    # C4: N*13*13*384 => C3*3s1*1S => N*13*13*384\n",
    "    channels4 = 384\n",
    "    weight4 = tf.Variable(tf.truncated_normal([3, 3, channels3, channels4], stddev=0.01), name='weight4')\n",
    "    conv4 = tf.nn.conv2d(conv3, filter=weight4, strides=[1, 1, 1, 1], padding='SAME')\n",
    "    # compare with bias\n",
    "    # bias4 = tf.Variable(tf.constant(0.1, dtype=tf.float32, shape=[channels4]))\n",
    "    # conv4 = tf.nn.bias_add(conv4, bias4)\n",
    "    # batch normalization\n",
    "    # y = (x - batch_mean) / sqrt(batch_var + epsilon)\n",
    "    # z = scale * y + offset\n",
    "    scale4 = tf.Variable(tf.ones([channels4]), name='scale4')\n",
    "    offset4 = tf.Variable(tf.zeros(channels4), name='offset4')\n",
    "    mean4 = tf.Variable(tf.zeros([channels4]), trainable=False, name='mean4')\n",
    "    var4 = tf.Variable(tf.ones([channels4]), trainable=False, name='var4')\n",
    "    batch_mean4, batch_var4 = tf.nn.moments(conv4, [0, 1, 2])\n",
    "    epsilon4 = 0.0001\n",
    "    train_mean4 = tf.assign(mean4, mean4 * 0.999 + batch_mean4 * 0.001)\n",
    "    train_var4 = tf.assign(var4, var4 * 0.999 + batch_var4 * 0.001)\n",
    "    with tf.control_dependencies([train_mean4, train_var4]):\n",
    "        conv4 = tf.nn.batch_normalization(conv4, batch_mean4, batch_var4, offset4, scale4, epsilon4)\n",
    "    conv4 = tf.nn.relu(conv4)\n",
    "    logging.info('weight4: name=%s, shape=%s', weight4.name, weight4.shape.as_list())\n",
    "    logging.info('scale4: name=%s, shape=%s', scale4.name, scale4.shape.as_list())\n",
    "    logging.info('offset4: name=%s, shape=%s', offset4.name, offset4.shape.as_list())\n",
    "    logging.info('mean4: name=%s, shape=%s', mean4.name, mean4.shape.as_list())\n",
    "    logging.info('var4: name=%s, shape=%s', var4.name, var4.shape.as_list())\n",
    "    logging.info('conv4.shape: %s', conv4.shape.as_list())"
   ]
  },
  {
   "cell_type": "markdown",
   "metadata": {},
   "source": [
    "### 5th layer: conv5(bn) => pool5 => reshape5"
   ]
  },
  {
   "cell_type": "code",
   "execution_count": 12,
   "metadata": {},
   "outputs": [
    {
     "name": "stderr",
     "output_type": "stream",
     "text": [
      "INFO:root:weight5: name=layer5/weight5:0, shape=[3, 3, 384, 256]\n",
      "INFO:root:scale5: name=layer5/scale5:0, shape=[256]\n",
      "INFO:root:offset5: name=layer5/offset5:0, shape=[256]\n",
      "INFO:root:mean5: name=layer5/mean5:0, shape=[256]\n",
      "INFO:root:var5: name=layer5/var5:0, shape=[256]\n",
      "INFO:root:conv5.shape: [None, 13, 13, 256]\n",
      "INFO:root:pool5.shape: [None, 6, 6, 256]\n",
      "INFO:root:reshape5.shape: [None, 9216]\n"
     ]
    }
   ],
   "source": [
    "with tf.variable_scope('layer5'):\n",
    "    # C5: N*13*13*384 => C3*3s1*1S => N*13*13*256\n",
    "    channels5 = 256\n",
    "    weight5 = tf.Variable(tf.truncated_normal([3, 3, channels4, channels5], stddev=0.01), name='weight5')\n",
    "    conv5 = tf.nn.conv2d(conv4, filter=weight5, strides=[1, 1, 1, 1], padding='SAME')\n",
    "    # compare with bias\n",
    "    # bias5 = tf.Variable(tf.constant(0.1, dtype=tf.float32, shape=[channels5]))\n",
    "    # conv5 = tf.nn.bias_add(conv5, bias5)\n",
    "    # batch normalization\n",
    "    # y = (x - batch_mean) / sqrt(batch_var + epsilon)\n",
    "    # z = scale * y + offset\n",
    "    scale5 = tf.Variable(tf.ones([channels5]), name='scale5')\n",
    "    offset5 = tf.Variable(tf.zeros(channels5), name='offset5')\n",
    "    mean5 = tf.Variable(tf.zeros([channels5]), trainable=False, name='mean5')\n",
    "    var5 = tf.Variable(tf.ones([channels5]), trainable=False, name='var5')\n",
    "    batch_mean5, batch_var5 = tf.nn.moments(conv5, [0, 1, 2])\n",
    "    epsilon5 = 0.0001\n",
    "    train_mean5 = tf.assign(mean5, mean5 * 0.999 + batch_mean5 * 0.001)\n",
    "    train_var5 = tf.assign(var5, var5 * 0.999 + batch_var5 * 0.001)\n",
    "    with tf.control_dependencies([train_mean5, train_var5]):\n",
    "        conv5 = tf.nn.batch_normalization(conv5, batch_mean5, batch_var5, offset5, scale5, epsilon5)\n",
    "    conv5 = tf.nn.relu(conv5)\n",
    "    logging.info('weight5: name=%s, shape=%s', weight5.name, weight5.shape.as_list())\n",
    "    logging.info('scale5: name=%s, shape=%s', scale5.name, scale5.shape.as_list())\n",
    "    logging.info('offset5: name=%s, shape=%s', offset5.name, offset5.shape.as_list())\n",
    "    logging.info('mean5: name=%s, shape=%s', mean5.name, mean5.shape.as_list())\n",
    "    logging.info('var5: name=%s, shape=%s', var5.name, var5.shape.as_list())\n",
    "    logging.info('conv5.shape: %s', conv5.shape.as_list())\n",
    "\n",
    "    # P5: N*13*13*256 => P3*3s2*2V => N*6*6*256\n",
    "    pool5 = tf.nn.max_pool(conv5, ksize=[1, 3, 3, 1], strides=[1, 2, 2, 1], padding='VALID')\n",
    "    logging.info('pool5.shape: %s', pool5.shape.as_list())\n",
    "\n",
    "    # R5: N*6*6*256 => Reshape => N*9216\n",
    "    nodes5 = 6 * 6 * 256\n",
    "    reshape5 = tf.reshape(pool5, [-1, nodes5])\n",
    "    logging.info('reshape5.shape: %s', reshape5.shape.as_list())"
   ]
  },
  {
   "cell_type": "markdown",
   "metadata": {},
   "source": [
    "### 6th layer: full6(bn) => drop6"
   ]
  },
  {
   "cell_type": "code",
   "execution_count": 13,
   "metadata": {},
   "outputs": [
    {
     "name": "stderr",
     "output_type": "stream",
     "text": [
      "INFO:root:weight6: name=layer6/weight6:0, shape=[9216, 4096]\n",
      "INFO:root:scale6: name=layer6/scale6:0, shape=[4096]\n",
      "INFO:root:offset6: name=layer6/offset6:0, shape=[4096]\n",
      "INFO:root:mean6: name=layer6/mean6:0, shape=[4096]\n",
      "INFO:root:var6: name=layer6/var6:0, shape=[4096]\n",
      "INFO:root:full6.shape: [None, 4096]\n",
      "INFO:root:drop6.shape: [None, 4096]\n"
     ]
    }
   ],
   "source": [
    "with tf.variable_scope('layer6'):\n",
    "    # F6: N*9216 => N*4096\n",
    "    nodes6 = 4096\n",
    "    weight6 = tf.Variable(tf.truncated_normal([nodes5, nodes6], stddev=0.1), name='weight6')\n",
    "    full6 = tf.matmul(reshape5, weight6)\n",
    "    # compare with bias\n",
    "    # bias6 = tf.Variable(tf.constant(0.1, dtype=tf.float32, shape=[nodes6]))\n",
    "    # full6 = tf.nn.bias_add(full6, bias6)\n",
    "    # batch normalization\n",
    "    # y = (x - batch_mean) / sqrt(batch_var + epsilon)\n",
    "    # z = scale * y + offset\n",
    "    scale6 = tf.Variable(tf.ones([nodes6]), name='scale6')\n",
    "    offset6 = tf.Variable(tf.zeros(nodes6), name='offset6')\n",
    "    mean6 = tf.Variable(tf.zeros([nodes6]), trainable=False, name='mean6')\n",
    "    var6 = tf.Variable(tf.ones([nodes6]), trainable=False, name='var6')\n",
    "    batch_mean6, batch_var6 = tf.nn.moments(full6, [0])\n",
    "    epsilon6 = 0.0001\n",
    "    train_mean6 = tf.assign(mean6, mean6 * 0.999 + batch_mean6 * 0.001)\n",
    "    train_var6 = tf.assign(var6, var6 * 0.999 + batch_var6 * 0.001)\n",
    "    with tf.control_dependencies([train_mean6, train_var6]):\n",
    "        full6 = tf.nn.batch_normalization(full6, batch_mean6, batch_var6, offset6, scale6, epsilon6)\n",
    "    full6 = tf.nn.relu(full6)\n",
    "    logging.info('weight6: name=%s, shape=%s', weight6.name, weight6.shape.as_list())\n",
    "    logging.info('scale6: name=%s, shape=%s', scale6.name, scale6.shape.as_list())\n",
    "    logging.info('offset6: name=%s, shape=%s', offset6.name, offset6.shape.as_list())\n",
    "    logging.info('mean6: name=%s, shape=%s', mean6.name, mean6.shape.as_list())\n",
    "    logging.info('var6: name=%s, shape=%s', var6.name, var6.shape.as_list())\n",
    "    logging.info('full6.shape: %s', full6.shape.as_list())\n",
    "\n",
    "    # D6: N*4096 => N*4096\n",
    "    # the dropped elements become 0, and the kept elements scaled \n",
    "    # up by 1/keep_prob, which will unchange the expected sum.\n",
    "    keep_prob6 = 0.5\n",
    "    drop6 = tf.nn.dropout(full6, keep_prob6)\n",
    "    logging.info('drop6.shape: %s', drop6.shape.as_list())"
   ]
  },
  {
   "cell_type": "markdown",
   "metadata": {},
   "source": [
    "### 7th layer: full7(bn) => drop7"
   ]
  },
  {
   "cell_type": "code",
   "execution_count": 14,
   "metadata": {},
   "outputs": [
    {
     "name": "stderr",
     "output_type": "stream",
     "text": [
      "INFO:root:weight7: name=layer7/weight7:0, shape=[4096, 2048]\n",
      "INFO:root:scale7: name=layer7/scale7:0, shape=[2048]\n",
      "INFO:root:offset7: name=layer7/offset7:0, shape=[2048]\n",
      "INFO:root:mean7: name=layer7/mean7:0, shape=[2048]\n",
      "INFO:root:var7: name=layer7/var7:0, shape=[2048]\n",
      "INFO:root:full7.shape: [None, 2048]\n",
      "INFO:root:drop7.shape: [None, 2048]\n"
     ]
    }
   ],
   "source": [
    "with tf.variable_scope('layer7'):\n",
    "    # F7: N*4096 => N*2048\n",
    "    nodes7 = 2048\n",
    "    weight7 = tf.Variable(tf.truncated_normal([nodes6, nodes7], stddev=0.1), name='weight7')\n",
    "    full7 = tf.matmul(drop6, weight7)\n",
    "    # compare with bias\n",
    "    # bias7 = tf.Variable(tf.constant(0.1, dtype=tf.float32, shape=[nodes7]))\n",
    "    # full7 = tf.nn.bias_add(full7, bias7)\n",
    "    # batch normalization\n",
    "    # y = (x - batch_mean) / sqrt(batch_var + epsilon)\n",
    "    # z = scale * y + offset\n",
    "    scale7 = tf.Variable(tf.ones([nodes7]), name='scale7')\n",
    "    offset7 = tf.Variable(tf.zeros(nodes7), name='offset7')\n",
    "    mean7 = tf.Variable(tf.zeros([nodes7]), trainable=False, name='mean7')\n",
    "    var7 = tf.Variable(tf.ones([nodes7]), trainable=False, name='var7')\n",
    "    batch_mean7, batch_var7 = tf.nn.moments(full7, [0])\n",
    "    epsilon7 = 0.0001\n",
    "    train_mean7 = tf.assign(mean7, mean7 * 0.999 + batch_mean7 * 0.001)\n",
    "    train_var7 = tf.assign(var7, var7 * 0.999 + batch_var7 * 0.001)\n",
    "    with tf.control_dependencies([train_mean7, train_var7]):\n",
    "        full7 = tf.nn.batch_normalization(full7, batch_mean7, batch_var7, offset7, scale7, epsilon7)\n",
    "    full7 = tf.nn.relu(full7)\n",
    "    logging.info('weight7: name=%s, shape=%s', weight7.name, weight7.shape.as_list())\n",
    "    logging.info('scale7: name=%s, shape=%s', scale7.name, scale7.shape.as_list())\n",
    "    logging.info('offset7: name=%s, shape=%s', offset7.name, offset7.shape.as_list())\n",
    "    logging.info('mean7: name=%s, shape=%s', mean7.name, mean7.shape.as_list())\n",
    "    logging.info('var7: name=%s, shape=%s', var7.name, var7.shape.as_list())\n",
    "    logging.info('full7.shape: %s', full7.shape.as_list())\n",
    "\n",
    "    # D7: N*2048 => N*2048\n",
    "    # the dropped elements become 0, and the kept elements scaled \n",
    "    # up by 1/keep_prob, which will unchange the expected sum.\n",
    "    keep_prob7 = 0.5\n",
    "    drop7 = tf.nn.dropout(full7, keep_prob7)\n",
    "    logging.info('drop7.shape: %s', drop7.shape.as_list())"
   ]
  },
  {
   "cell_type": "markdown",
   "metadata": {},
   "source": [
    "### 8th layer: full8(bn)"
   ]
  },
  {
   "cell_type": "code",
   "execution_count": 16,
   "metadata": {},
   "outputs": [
    {
     "name": "stderr",
     "output_type": "stream",
     "text": [
      "INFO:root:weight8: name=layer8_1/bias8:0, shape=[2]\n",
      "INFO:root:bias8: name=layer8_1/bias8:0, shape=[2]\n",
      "INFO:root:full8.shape: [None, 2]\n"
     ]
    }
   ],
   "source": [
    "with tf.variable_scope('layer8'):\n",
    "    # F8: N*2048 => N*2\n",
    "    nodes8 = n_classes\n",
    "    weight8 = tf.Variable(tf.truncated_normal([nodes7, nodes8], stddev=0.1), name='weight8')\n",
    "    full8 = tf.matmul(drop7, weight8)\n",
    "    # compare with bias\n",
    "    bias8 = tf.Variable(tf.constant(0.1, dtype=tf.float32, shape=[nodes8]), name='bias8')\n",
    "    full8 = tf.nn.bias_add(full8, bias8)\n",
    "    logging.info('weight8: name=%s, shape=%s', bias8.name, bias8.shape.as_list())\n",
    "    logging.info('bias8: name=%s, shape=%s', bias8.name, bias8.shape.as_list())\n",
    "    logging.info('full8.shape: %s', full8.shape.as_list())"
   ]
  },
  {
   "cell_type": "markdown",
   "metadata": {},
   "source": [
    "### output layer: softmax"
   ]
  },
  {
   "cell_type": "code",
   "execution_count": 17,
   "metadata": {},
   "outputs": [
    {
     "name": "stderr",
     "output_type": "stream",
     "text": [
      "INFO:root:y.shape: [None, 2]\n"
     ]
    }
   ],
   "source": [
    "y = tf.nn.softmax(full8)\n",
    "logging.info('y.shape: %s', y.shape.as_list())"
   ]
  },
  {
   "cell_type": "markdown",
   "metadata": {},
   "source": [
    "### train"
   ]
  },
  {
   "cell_type": "code",
   "execution_count": 18,
   "metadata": {},
   "outputs": [
    {
     "name": "stderr",
     "output_type": "stream",
     "text": [
      "INFO:root:cross_entropy.type: <dtype: 'float32'>\n"
     ]
    }
   ],
   "source": [
    "learning_rate = 1.0e-4\n",
    "y_ = tf.cast(y_, tf.float32)\n",
    "# y maybe 0, which will lead to cross_entropy be nan\n",
    "#cross_entropy = tf.reduce_mean(-tf.reduce_sum(y_ * tf.log(y), axis=1))\n",
    "#eps = 1e-10\n",
    "#cross_entropy = tf.reduce_mean(\n",
    "#    -tf.reduce_sum(y_ * tf.log(tf.clip_by_value(y, eps, 1.0 - eps)), axis=1))\n",
    "y_ls = tf.nn.log_softmax(full8) # log(e^k/sigma(e^i)) = k - log(sigma(e^i)) != nan\n",
    "cross_entropy = tf.reduce_mean(-tf.reduce_sum(y_ * y_ls, axis=1))\n",
    "#cross_entropy = tf.reduce_mean( \\\n",
    "#    tf.nn.softmax_cross_entropy_with_logits(labels=y_, logits=full8))\n",
    "\n",
    "#train_step = tf.train.GradientDescentOptimizer(learning_rate).minimize(cross_entropy)\n",
    "train_step = tf.train.AdamOptimizer(learning_rate).minimize(cross_entropy)\n",
    "logging.info('cross_entropy.type: %s', cross_entropy.dtype)"
   ]
  },
  {
   "cell_type": "code",
   "execution_count": 19,
   "metadata": {},
   "outputs": [
    {
     "ename": "ResourceExhaustedError",
     "evalue": "OOM when allocating tensor with shape[4096,2048] and type float on /job:localhost/replica:0/task:0/device:GPU:0 by allocator GPU_0_bfc\n\t [[Node: layer7/weight7/Adam/Initializer/zeros = Fill[T=DT_FLOAT, _class=[\"loc:@layer7/weight7\"], index_type=DT_INT32, _device=\"/job:localhost/replica:0/task:0/device:GPU:0\"](layer7/weight7/Adam/Initializer/zeros/shape_as_tensor, layer7/weight7/Adam/Initializer/zeros/Const)]]\nHint: If you want to see a list of allocated tensors when OOM happens, add report_tensor_allocations_upon_oom to RunOptions for current allocation info.\n\n\nCaused by op u'layer7/weight7/Adam/Initializer/zeros', defined at:\n  File \"/usr/lib/python2.7/runpy.py\", line 174, in _run_module_as_main\n    \"__main__\", fname, loader, pkg_name)\n  File \"/usr/lib/python2.7/runpy.py\", line 72, in _run_code\n    exec code in run_globals\n  File \"/usr/local/lib/python2.7/dist-packages/ipykernel_launcher.py\", line 16, in <module>\n    app.launch_new_instance()\n  File \"/usr/local/lib/python2.7/dist-packages/traitlets/config/application.py\", line 658, in launch_instance\n    app.start()\n  File \"/usr/local/lib/python2.7/dist-packages/ipykernel/kernelapp.py\", line 486, in start\n    self.io_loop.start()\n  File \"/usr/local/lib/python2.7/dist-packages/tornado/ioloop.py\", line 1064, in start\n    handler_func(fd_obj, events)\n  File \"/usr/local/lib/python2.7/dist-packages/tornado/stack_context.py\", line 276, in null_wrapper\n    return fn(*args, **kwargs)\n  File \"/usr/local/lib/python2.7/dist-packages/zmq/eventloop/zmqstream.py\", line 450, in _handle_events\n    self._handle_recv()\n  File \"/usr/local/lib/python2.7/dist-packages/zmq/eventloop/zmqstream.py\", line 480, in _handle_recv\n    self._run_callback(callback, msg)\n  File \"/usr/local/lib/python2.7/dist-packages/zmq/eventloop/zmqstream.py\", line 432, in _run_callback\n    callback(*args, **kwargs)\n  File \"/usr/local/lib/python2.7/dist-packages/tornado/stack_context.py\", line 276, in null_wrapper\n    return fn(*args, **kwargs)\n  File \"/usr/local/lib/python2.7/dist-packages/ipykernel/kernelbase.py\", line 283, in dispatcher\n    return self.dispatch_shell(stream, msg)\n  File \"/usr/local/lib/python2.7/dist-packages/ipykernel/kernelbase.py\", line 233, in dispatch_shell\n    handler(stream, idents, msg)\n  File \"/usr/local/lib/python2.7/dist-packages/ipykernel/kernelbase.py\", line 399, in execute_request\n    user_expressions, allow_stdin)\n  File \"/usr/local/lib/python2.7/dist-packages/ipykernel/ipkernel.py\", line 208, in do_execute\n    res = shell.run_cell(code, store_history=store_history, silent=silent)\n  File \"/usr/local/lib/python2.7/dist-packages/ipykernel/zmqshell.py\", line 537, in run_cell\n    return super(ZMQInteractiveShell, self).run_cell(*args, **kwargs)\n  File \"/usr/local/lib/python2.7/dist-packages/IPython/core/interactiveshell.py\", line 2705, in run_cell\n    interactivity=interactivity, compiler=compiler, result=result)\n  File \"/usr/local/lib/python2.7/dist-packages/IPython/core/interactiveshell.py\", line 2809, in run_ast_nodes\n    if self.run_code(code, result):\n  File \"/usr/local/lib/python2.7/dist-packages/IPython/core/interactiveshell.py\", line 2869, in run_code\n    exec(code_obj, self.user_global_ns, self.user_ns)\n  File \"<ipython-input-18-92d6678d063b>\", line 14, in <module>\n    train_step = tf.train.AdamOptimizer(learning_rate).minimize(cross_entropy)\n  File \"/usr/local/lib/python2.7/dist-packages/tensorflow/python/training/optimizer.py\", line 409, in minimize\n    name=name)\n  File \"/usr/local/lib/python2.7/dist-packages/tensorflow/python/training/optimizer.py\", line 552, in apply_gradients\n    self._create_slots([_get_variable_for(v) for v in var_list])\n  File \"/usr/local/lib/python2.7/dist-packages/tensorflow/python/training/adam.py\", line 131, in _create_slots\n    self._zeros_slot(v, \"m\", self._name)\n  File \"/usr/local/lib/python2.7/dist-packages/tensorflow/python/training/optimizer.py\", line 984, in _zeros_slot\n    new_slot_variable = slot_creator.create_zeros_slot(var, op_name)\n  File \"/usr/local/lib/python2.7/dist-packages/tensorflow/python/training/slot_creator.py\", line 179, in create_zeros_slot\n    colocate_with_primary=colocate_with_primary)\n  File \"/usr/local/lib/python2.7/dist-packages/tensorflow/python/training/slot_creator.py\", line 153, in create_slot_with_initializer\n    dtype)\n  File \"/usr/local/lib/python2.7/dist-packages/tensorflow/python/training/slot_creator.py\", line 65, in _create_slot_var\n    validate_shape=validate_shape)\n  File \"/usr/local/lib/python2.7/dist-packages/tensorflow/python/ops/variable_scope.py\", line 1297, in get_variable\n    constraint=constraint)\n  File \"/usr/local/lib/python2.7/dist-packages/tensorflow/python/ops/variable_scope.py\", line 1093, in get_variable\n    constraint=constraint)\n  File \"/usr/local/lib/python2.7/dist-packages/tensorflow/python/ops/variable_scope.py\", line 439, in get_variable\n    constraint=constraint)\n  File \"/usr/local/lib/python2.7/dist-packages/tensorflow/python/ops/variable_scope.py\", line 408, in _true_getter\n    use_resource=use_resource, constraint=constraint)\n  File \"/usr/local/lib/python2.7/dist-packages/tensorflow/python/ops/variable_scope.py\", line 800, in _get_single_variable\n    use_resource=use_resource)\n  File \"/usr/local/lib/python2.7/dist-packages/tensorflow/python/ops/variable_scope.py\", line 2157, in variable\n    use_resource=use_resource)\n  File \"/usr/local/lib/python2.7/dist-packages/tensorflow/python/ops/variable_scope.py\", line 2147, in <lambda>\n    previous_getter = lambda **kwargs: default_variable_creator(None, **kwargs)\n  File \"/usr/local/lib/python2.7/dist-packages/tensorflow/python/ops/variable_scope.py\", line 2130, in default_variable_creator\n    constraint=constraint)\n  File \"/usr/local/lib/python2.7/dist-packages/tensorflow/python/ops/variables.py\", line 235, in __init__\n    constraint=constraint)\n  File \"/usr/local/lib/python2.7/dist-packages/tensorflow/python/ops/variables.py\", line 337, in _init_from_args\n    initial_value(), name=\"initial_value\", dtype=dtype)\n  File \"/usr/local/lib/python2.7/dist-packages/tensorflow/python/ops/variable_scope.py\", line 784, in <lambda>\n    shape.as_list(), dtype=dtype, partition_info=partition_info)\n  File \"/usr/local/lib/python2.7/dist-packages/tensorflow/python/ops/init_ops.py\", line 99, in __call__\n    return array_ops.zeros(shape, dtype)\n  File \"/usr/local/lib/python2.7/dist-packages/tensorflow/python/ops/array_ops.py\", line 1601, in zeros\n    output = fill(shape, constant(zero, dtype=dtype), name=name)\n  File \"/usr/local/lib/python2.7/dist-packages/tensorflow/python/ops/gen_array_ops.py\", line 2583, in fill\n    \"Fill\", dims=dims, value=value, name=name)\n  File \"/usr/local/lib/python2.7/dist-packages/tensorflow/python/framework/op_def_library.py\", line 787, in _apply_op_helper\n    op_def=op_def)\n  File \"/usr/local/lib/python2.7/dist-packages/tensorflow/python/framework/ops.py\", line 3290, in create_op\n    op_def=op_def)\n  File \"/usr/local/lib/python2.7/dist-packages/tensorflow/python/framework/ops.py\", line 1654, in __init__\n    self._traceback = self._graph._extract_stack()  # pylint: disable=protected-access\n\nResourceExhaustedError (see above for traceback): OOM when allocating tensor with shape[4096,2048] and type float on /job:localhost/replica:0/task:0/device:GPU:0 by allocator GPU_0_bfc\n\t [[Node: layer7/weight7/Adam/Initializer/zeros = Fill[T=DT_FLOAT, _class=[\"loc:@layer7/weight7\"], index_type=DT_INT32, _device=\"/job:localhost/replica:0/task:0/device:GPU:0\"](layer7/weight7/Adam/Initializer/zeros/shape_as_tensor, layer7/weight7/Adam/Initializer/zeros/Const)]]\nHint: If you want to see a list of allocated tensors when OOM happens, add report_tensor_allocations_upon_oom to RunOptions for current allocation info.\n\n",
     "output_type": "error",
     "traceback": [
      "\u001b[0;31m\u001b[0m",
      "\u001b[0;31mResourceExhaustedError\u001b[0mTraceback (most recent call last)",
      "\u001b[0;32m<ipython-input-19-7ba778b472b1>\u001b[0m in \u001b[0;36m<module>\u001b[0;34m()\u001b[0m\n\u001b[1;32m      1\u001b[0m \u001b[0msess\u001b[0m \u001b[0;34m=\u001b[0m \u001b[0mtf\u001b[0m\u001b[0;34m.\u001b[0m\u001b[0mInteractiveSession\u001b[0m\u001b[0;34m(\u001b[0m\u001b[0;34m)\u001b[0m\u001b[0;34m\u001b[0m\u001b[0m\n\u001b[0;32m----> 2\u001b[0;31m \u001b[0msess\u001b[0m\u001b[0;34m.\u001b[0m\u001b[0mrun\u001b[0m\u001b[0;34m(\u001b[0m\u001b[0mtf\u001b[0m\u001b[0;34m.\u001b[0m\u001b[0mglobal_variables_initializer\u001b[0m\u001b[0;34m(\u001b[0m\u001b[0;34m)\u001b[0m\u001b[0;34m)\u001b[0m\u001b[0;34m\u001b[0m\u001b[0m\n\u001b[0m\u001b[1;32m      3\u001b[0m \u001b[0;34m\u001b[0m\u001b[0m\n\u001b[1;32m      4\u001b[0m \u001b[0mbatch_size\u001b[0m \u001b[0;34m=\u001b[0m \u001b[0;36m8\u001b[0m\u001b[0;34m\u001b[0m\u001b[0m\n\u001b[1;32m      5\u001b[0m \u001b[0;34m\u001b[0m\u001b[0m\n",
      "\u001b[0;32m/usr/local/lib/python2.7/dist-packages/tensorflow/python/client/session.pyc\u001b[0m in \u001b[0;36mrun\u001b[0;34m(self, fetches, feed_dict, options, run_metadata)\u001b[0m\n\u001b[1;32m    903\u001b[0m     \u001b[0;32mtry\u001b[0m\u001b[0;34m:\u001b[0m\u001b[0;34m\u001b[0m\u001b[0m\n\u001b[1;32m    904\u001b[0m       result = self._run(None, fetches, feed_dict, options_ptr,\n\u001b[0;32m--> 905\u001b[0;31m                          run_metadata_ptr)\n\u001b[0m\u001b[1;32m    906\u001b[0m       \u001b[0;32mif\u001b[0m \u001b[0mrun_metadata\u001b[0m\u001b[0;34m:\u001b[0m\u001b[0;34m\u001b[0m\u001b[0m\n\u001b[1;32m    907\u001b[0m         \u001b[0mproto_data\u001b[0m \u001b[0;34m=\u001b[0m \u001b[0mtf_session\u001b[0m\u001b[0;34m.\u001b[0m\u001b[0mTF_GetBuffer\u001b[0m\u001b[0;34m(\u001b[0m\u001b[0mrun_metadata_ptr\u001b[0m\u001b[0;34m)\u001b[0m\u001b[0;34m\u001b[0m\u001b[0m\n",
      "\u001b[0;32m/usr/local/lib/python2.7/dist-packages/tensorflow/python/client/session.pyc\u001b[0m in \u001b[0;36m_run\u001b[0;34m(self, handle, fetches, feed_dict, options, run_metadata)\u001b[0m\n\u001b[1;32m   1138\u001b[0m     \u001b[0;32mif\u001b[0m \u001b[0mfinal_fetches\u001b[0m \u001b[0;32mor\u001b[0m \u001b[0mfinal_targets\u001b[0m \u001b[0;32mor\u001b[0m \u001b[0;34m(\u001b[0m\u001b[0mhandle\u001b[0m \u001b[0;32mand\u001b[0m \u001b[0mfeed_dict_tensor\u001b[0m\u001b[0;34m)\u001b[0m\u001b[0;34m:\u001b[0m\u001b[0;34m\u001b[0m\u001b[0m\n\u001b[1;32m   1139\u001b[0m       results = self._do_run(handle, final_targets, final_fetches,\n\u001b[0;32m-> 1140\u001b[0;31m                              feed_dict_tensor, options, run_metadata)\n\u001b[0m\u001b[1;32m   1141\u001b[0m     \u001b[0;32melse\u001b[0m\u001b[0;34m:\u001b[0m\u001b[0;34m\u001b[0m\u001b[0m\n\u001b[1;32m   1142\u001b[0m       \u001b[0mresults\u001b[0m \u001b[0;34m=\u001b[0m \u001b[0;34m[\u001b[0m\u001b[0;34m]\u001b[0m\u001b[0;34m\u001b[0m\u001b[0m\n",
      "\u001b[0;32m/usr/local/lib/python2.7/dist-packages/tensorflow/python/client/session.pyc\u001b[0m in \u001b[0;36m_do_run\u001b[0;34m(self, handle, target_list, fetch_list, feed_dict, options, run_metadata)\u001b[0m\n\u001b[1;32m   1319\u001b[0m     \u001b[0;32mif\u001b[0m \u001b[0mhandle\u001b[0m \u001b[0;32mis\u001b[0m \u001b[0mNone\u001b[0m\u001b[0;34m:\u001b[0m\u001b[0;34m\u001b[0m\u001b[0m\n\u001b[1;32m   1320\u001b[0m       return self._do_call(_run_fn, feeds, fetches, targets, options,\n\u001b[0;32m-> 1321\u001b[0;31m                            run_metadata)\n\u001b[0m\u001b[1;32m   1322\u001b[0m     \u001b[0;32melse\u001b[0m\u001b[0;34m:\u001b[0m\u001b[0;34m\u001b[0m\u001b[0m\n\u001b[1;32m   1323\u001b[0m       \u001b[0;32mreturn\u001b[0m \u001b[0mself\u001b[0m\u001b[0;34m.\u001b[0m\u001b[0m_do_call\u001b[0m\u001b[0;34m(\u001b[0m\u001b[0m_prun_fn\u001b[0m\u001b[0;34m,\u001b[0m \u001b[0mhandle\u001b[0m\u001b[0;34m,\u001b[0m \u001b[0mfeeds\u001b[0m\u001b[0;34m,\u001b[0m \u001b[0mfetches\u001b[0m\u001b[0;34m)\u001b[0m\u001b[0;34m\u001b[0m\u001b[0m\n",
      "\u001b[0;32m/usr/local/lib/python2.7/dist-packages/tensorflow/python/client/session.pyc\u001b[0m in \u001b[0;36m_do_call\u001b[0;34m(self, fn, *args)\u001b[0m\n\u001b[1;32m   1338\u001b[0m         \u001b[0;32mexcept\u001b[0m \u001b[0mKeyError\u001b[0m\u001b[0;34m:\u001b[0m\u001b[0;34m\u001b[0m\u001b[0m\n\u001b[1;32m   1339\u001b[0m           \u001b[0;32mpass\u001b[0m\u001b[0;34m\u001b[0m\u001b[0m\n\u001b[0;32m-> 1340\u001b[0;31m       \u001b[0;32mraise\u001b[0m \u001b[0mtype\u001b[0m\u001b[0;34m(\u001b[0m\u001b[0me\u001b[0m\u001b[0;34m)\u001b[0m\u001b[0;34m(\u001b[0m\u001b[0mnode_def\u001b[0m\u001b[0;34m,\u001b[0m \u001b[0mop\u001b[0m\u001b[0;34m,\u001b[0m \u001b[0mmessage\u001b[0m\u001b[0;34m)\u001b[0m\u001b[0;34m\u001b[0m\u001b[0m\n\u001b[0m\u001b[1;32m   1341\u001b[0m \u001b[0;34m\u001b[0m\u001b[0m\n\u001b[1;32m   1342\u001b[0m   \u001b[0;32mdef\u001b[0m \u001b[0m_extend_graph\u001b[0m\u001b[0;34m(\u001b[0m\u001b[0mself\u001b[0m\u001b[0;34m)\u001b[0m\u001b[0;34m:\u001b[0m\u001b[0;34m\u001b[0m\u001b[0m\n",
      "\u001b[0;31mResourceExhaustedError\u001b[0m: OOM when allocating tensor with shape[4096,2048] and type float on /job:localhost/replica:0/task:0/device:GPU:0 by allocator GPU_0_bfc\n\t [[Node: layer7/weight7/Adam/Initializer/zeros = Fill[T=DT_FLOAT, _class=[\"loc:@layer7/weight7\"], index_type=DT_INT32, _device=\"/job:localhost/replica:0/task:0/device:GPU:0\"](layer7/weight7/Adam/Initializer/zeros/shape_as_tensor, layer7/weight7/Adam/Initializer/zeros/Const)]]\nHint: If you want to see a list of allocated tensors when OOM happens, add report_tensor_allocations_upon_oom to RunOptions for current allocation info.\n\n\nCaused by op u'layer7/weight7/Adam/Initializer/zeros', defined at:\n  File \"/usr/lib/python2.7/runpy.py\", line 174, in _run_module_as_main\n    \"__main__\", fname, loader, pkg_name)\n  File \"/usr/lib/python2.7/runpy.py\", line 72, in _run_code\n    exec code in run_globals\n  File \"/usr/local/lib/python2.7/dist-packages/ipykernel_launcher.py\", line 16, in <module>\n    app.launch_new_instance()\n  File \"/usr/local/lib/python2.7/dist-packages/traitlets/config/application.py\", line 658, in launch_instance\n    app.start()\n  File \"/usr/local/lib/python2.7/dist-packages/ipykernel/kernelapp.py\", line 486, in start\n    self.io_loop.start()\n  File \"/usr/local/lib/python2.7/dist-packages/tornado/ioloop.py\", line 1064, in start\n    handler_func(fd_obj, events)\n  File \"/usr/local/lib/python2.7/dist-packages/tornado/stack_context.py\", line 276, in null_wrapper\n    return fn(*args, **kwargs)\n  File \"/usr/local/lib/python2.7/dist-packages/zmq/eventloop/zmqstream.py\", line 450, in _handle_events\n    self._handle_recv()\n  File \"/usr/local/lib/python2.7/dist-packages/zmq/eventloop/zmqstream.py\", line 480, in _handle_recv\n    self._run_callback(callback, msg)\n  File \"/usr/local/lib/python2.7/dist-packages/zmq/eventloop/zmqstream.py\", line 432, in _run_callback\n    callback(*args, **kwargs)\n  File \"/usr/local/lib/python2.7/dist-packages/tornado/stack_context.py\", line 276, in null_wrapper\n    return fn(*args, **kwargs)\n  File \"/usr/local/lib/python2.7/dist-packages/ipykernel/kernelbase.py\", line 283, in dispatcher\n    return self.dispatch_shell(stream, msg)\n  File \"/usr/local/lib/python2.7/dist-packages/ipykernel/kernelbase.py\", line 233, in dispatch_shell\n    handler(stream, idents, msg)\n  File \"/usr/local/lib/python2.7/dist-packages/ipykernel/kernelbase.py\", line 399, in execute_request\n    user_expressions, allow_stdin)\n  File \"/usr/local/lib/python2.7/dist-packages/ipykernel/ipkernel.py\", line 208, in do_execute\n    res = shell.run_cell(code, store_history=store_history, silent=silent)\n  File \"/usr/local/lib/python2.7/dist-packages/ipykernel/zmqshell.py\", line 537, in run_cell\n    return super(ZMQInteractiveShell, self).run_cell(*args, **kwargs)\n  File \"/usr/local/lib/python2.7/dist-packages/IPython/core/interactiveshell.py\", line 2705, in run_cell\n    interactivity=interactivity, compiler=compiler, result=result)\n  File \"/usr/local/lib/python2.7/dist-packages/IPython/core/interactiveshell.py\", line 2809, in run_ast_nodes\n    if self.run_code(code, result):\n  File \"/usr/local/lib/python2.7/dist-packages/IPython/core/interactiveshell.py\", line 2869, in run_code\n    exec(code_obj, self.user_global_ns, self.user_ns)\n  File \"<ipython-input-18-92d6678d063b>\", line 14, in <module>\n    train_step = tf.train.AdamOptimizer(learning_rate).minimize(cross_entropy)\n  File \"/usr/local/lib/python2.7/dist-packages/tensorflow/python/training/optimizer.py\", line 409, in minimize\n    name=name)\n  File \"/usr/local/lib/python2.7/dist-packages/tensorflow/python/training/optimizer.py\", line 552, in apply_gradients\n    self._create_slots([_get_variable_for(v) for v in var_list])\n  File \"/usr/local/lib/python2.7/dist-packages/tensorflow/python/training/adam.py\", line 131, in _create_slots\n    self._zeros_slot(v, \"m\", self._name)\n  File \"/usr/local/lib/python2.7/dist-packages/tensorflow/python/training/optimizer.py\", line 984, in _zeros_slot\n    new_slot_variable = slot_creator.create_zeros_slot(var, op_name)\n  File \"/usr/local/lib/python2.7/dist-packages/tensorflow/python/training/slot_creator.py\", line 179, in create_zeros_slot\n    colocate_with_primary=colocate_with_primary)\n  File \"/usr/local/lib/python2.7/dist-packages/tensorflow/python/training/slot_creator.py\", line 153, in create_slot_with_initializer\n    dtype)\n  File \"/usr/local/lib/python2.7/dist-packages/tensorflow/python/training/slot_creator.py\", line 65, in _create_slot_var\n    validate_shape=validate_shape)\n  File \"/usr/local/lib/python2.7/dist-packages/tensorflow/python/ops/variable_scope.py\", line 1297, in get_variable\n    constraint=constraint)\n  File \"/usr/local/lib/python2.7/dist-packages/tensorflow/python/ops/variable_scope.py\", line 1093, in get_variable\n    constraint=constraint)\n  File \"/usr/local/lib/python2.7/dist-packages/tensorflow/python/ops/variable_scope.py\", line 439, in get_variable\n    constraint=constraint)\n  File \"/usr/local/lib/python2.7/dist-packages/tensorflow/python/ops/variable_scope.py\", line 408, in _true_getter\n    use_resource=use_resource, constraint=constraint)\n  File \"/usr/local/lib/python2.7/dist-packages/tensorflow/python/ops/variable_scope.py\", line 800, in _get_single_variable\n    use_resource=use_resource)\n  File \"/usr/local/lib/python2.7/dist-packages/tensorflow/python/ops/variable_scope.py\", line 2157, in variable\n    use_resource=use_resource)\n  File \"/usr/local/lib/python2.7/dist-packages/tensorflow/python/ops/variable_scope.py\", line 2147, in <lambda>\n    previous_getter = lambda **kwargs: default_variable_creator(None, **kwargs)\n  File \"/usr/local/lib/python2.7/dist-packages/tensorflow/python/ops/variable_scope.py\", line 2130, in default_variable_creator\n    constraint=constraint)\n  File \"/usr/local/lib/python2.7/dist-packages/tensorflow/python/ops/variables.py\", line 235, in __init__\n    constraint=constraint)\n  File \"/usr/local/lib/python2.7/dist-packages/tensorflow/python/ops/variables.py\", line 337, in _init_from_args\n    initial_value(), name=\"initial_value\", dtype=dtype)\n  File \"/usr/local/lib/python2.7/dist-packages/tensorflow/python/ops/variable_scope.py\", line 784, in <lambda>\n    shape.as_list(), dtype=dtype, partition_info=partition_info)\n  File \"/usr/local/lib/python2.7/dist-packages/tensorflow/python/ops/init_ops.py\", line 99, in __call__\n    return array_ops.zeros(shape, dtype)\n  File \"/usr/local/lib/python2.7/dist-packages/tensorflow/python/ops/array_ops.py\", line 1601, in zeros\n    output = fill(shape, constant(zero, dtype=dtype), name=name)\n  File \"/usr/local/lib/python2.7/dist-packages/tensorflow/python/ops/gen_array_ops.py\", line 2583, in fill\n    \"Fill\", dims=dims, value=value, name=name)\n  File \"/usr/local/lib/python2.7/dist-packages/tensorflow/python/framework/op_def_library.py\", line 787, in _apply_op_helper\n    op_def=op_def)\n  File \"/usr/local/lib/python2.7/dist-packages/tensorflow/python/framework/ops.py\", line 3290, in create_op\n    op_def=op_def)\n  File \"/usr/local/lib/python2.7/dist-packages/tensorflow/python/framework/ops.py\", line 1654, in __init__\n    self._traceback = self._graph._extract_stack()  # pylint: disable=protected-access\n\nResourceExhaustedError (see above for traceback): OOM when allocating tensor with shape[4096,2048] and type float on /job:localhost/replica:0/task:0/device:GPU:0 by allocator GPU_0_bfc\n\t [[Node: layer7/weight7/Adam/Initializer/zeros = Fill[T=DT_FLOAT, _class=[\"loc:@layer7/weight7\"], index_type=DT_INT32, _device=\"/job:localhost/replica:0/task:0/device:GPU:0\"](layer7/weight7/Adam/Initializer/zeros/shape_as_tensor, layer7/weight7/Adam/Initializer/zeros/Const)]]\nHint: If you want to see a list of allocated tensors when OOM happens, add report_tensor_allocations_upon_oom to RunOptions for current allocation info.\n\n"
     ]
    }
   ],
   "source": [
    "sess = tf.InteractiveSession()\n",
    "sess.run(tf.global_variables_initializer())\n",
    "\n",
    "batch_size = 8\n",
    "\n",
    "reader = tf.TFRecordReader()  # no need to close\n",
    "filename_queue = tf.train.string_input_producer([train_path])\n",
    "_, serialized_example = reader.read(filename_queue)\n",
    "features = tf.parse_single_example(\n",
    "    serialized_example,\n",
    "    features = {\n",
    "        'image_raw': tf.FixedLenFeature([], tf.string),\n",
    "        'label': tf.FixedLenFeature([], tf.int64)\n",
    "    }\n",
    ")\n",
    "image = tf.decode_raw(features['image_raw'], tf.uint8)\n",
    "image = tf.cast(tf.reshape(image, [227, 227, 3]), tf.float32)\n",
    "label = features['label']\n",
    "logging.info('image.shape: %s', image.shape.as_list())\n",
    "logging.info('label.shape: %s', label.shape.as_list())\n",
    "\n",
    "num_threads = 4\n",
    "min_after_dequeue = num_threads * batch_size\n",
    "capacity = 3 * num_threads * batch_size # 32: min_after_dequeue, 64: extra\n",
    "image_batch, label_batch = tf.train.shuffle_batch([image, label], batch_size = batch_size, \\\n",
    "            capacity = capacity, min_after_dequeue = min_after_dequeue, num_threads = num_threads)\n",
    "logging.info('image_batch: dtype = %s, shape = %s', image_batch.dtype, image_batch.shape.as_list())\n",
    "logging.info('label_batch: dtype = %s. shape = %s', label_batch.dtype, label_batch.shape.as_list())\n",
    "\n",
    "coord = tf.train.Coordinator()\n",
    "threads = tf.train.start_queue_runners(sess = sess, coord = coord)\n",
    "            \n",
    "saver = tf.train.Saver()\n",
    "\n",
    "losses = []\n",
    "\n",
    "epoches = 1000000\n",
    "onehot_code = [[1.0, 0.0], [0.0, 1.0]]\n",
    "logging.info('training begin: epoches = %d', epoches)\n",
    "t0 = time.time()\n",
    "for epoch in range(1, epoches+1):\n",
    "    images, labels = sess.run([image_batch, label_batch])\n",
    "    labels = np.array([onehot_code[lbl] for lbl in labels])\n",
    "    train_step.run({x_:images, y_:labels})\n",
    "    t = time.time() - t0\n",
    "    loss = cross_entropy.eval({x_:images, y_:labels})\n",
    "    losses.append(loss)\n",
    "    if epoch % 100 == 0:\n",
    "        t = time.time() - t0\n",
    "        t0 = time.time()\n",
    "        logging.info('[epoch %6d] loss = %.6f (%.2f seconds/100 epoches)', epoch, loss, t)\n",
    "    if epoch % 100000 == 0:\n",
    "        logging.info('saving model to %s', save_path)\n",
    "        saver.save(sess, save_path, global_step=epoch)\n",
    "\n",
    "logging.info('traing finished: total = %d', epoch)\n",
    "logging.info('save model to %s', save_path)\n",
    "saver.save(sess, save_path, global_step=epoch)\n",
    "\n",
    "coord.request_stop()\n",
    "coord.join(threads)\n",
    "\n",
    "plt.figure()\n",
    "plt.plot(losses)\n",
    "plt.tight_layout()\n",
    "ple.show()\n",
    "\n",
    "sess.close()\n"
   ]
  }
 ],
 "metadata": {
  "kernelspec": {
   "display_name": "Python 2",
   "language": "python",
   "name": "python2"
  },
  "language_info": {
   "codemirror_mode": {
    "name": "ipython",
    "version": 2
   },
   "file_extension": ".py",
   "mimetype": "text/x-python",
   "name": "python",
   "nbconvert_exporter": "python",
   "pygments_lexer": "ipython2",
   "version": "2.7.12"
  }
 },
 "nbformat": 4,
 "nbformat_minor": 2
}
