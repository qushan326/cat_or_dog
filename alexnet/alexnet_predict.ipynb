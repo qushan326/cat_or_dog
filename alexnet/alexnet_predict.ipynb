{
 "cells": [
  {
   "cell_type": "code",
   "execution_count": null,
   "metadata": {},
   "outputs": [],
   "source": [
    "import logging\n",
    "logging.basicConfig(level=logging.INFO)\n",
    "import numpy as np\n",
    "from matplotlib import pyplot as plt\n",
    "import tensorflow as tf\n",
    "import cv2\n",
    "import time\n",
    "import os\n",
    "import glob"
   ]
  },
  {
   "cell_type": "code",
   "execution_count": null,
   "metadata": {},
   "outputs": [],
   "source": [
    "test_dir = '../data/test'\n",
    "save_dir = '../model/alexnet'\n",
    "size = (227, 227)"
   ]
  },
  {
   "cell_type": "code",
   "execution_count": null,
   "metadata": {},
   "outputs": [],
   "source": [
    "name_id_map = {'cat': 0, 'dog': 1}\n",
    "id_name_map = {id:name for name, id in name_id_map.items()}\n",
    "n_classes = len(name_id_map)\n",
    "logging.info('name_id_map: %s', name_id_map)\n",
    "logging.info('id_name_map: %s', id_name_map)\n",
    "logging.info('n_classes: %d', n_classes)"
   ]
  },
  {
   "cell_type": "markdown",
   "metadata": {},
   "source": [
    "### input layer"
   ]
  },
  {
   "cell_type": "code",
   "execution_count": null,
   "metadata": {},
   "outputs": [],
   "source": [
    "# Input: N*227*227*3\n",
    "channels0 = 3\n",
    "x_ = tf.placeholder(tf.float32, [None, 227, 227, channels0])\n",
    "y_ = tf.placeholder(tf.int32, [None, n_classes])\n",
    "logging.info('x_.shape = %s', x_.shape.as_list())\n",
    "logging.info('y_.shape = %s', y_.shape.as_list())"
   ]
  },
  {
   "cell_type": "markdown",
   "metadata": {},
   "source": [
    "### 1st layer: conv1(bn) => lrn1 => pool1"
   ]
  },
  {
   "cell_type": "code",
   "execution_count": null,
   "metadata": {},
   "outputs": [],
   "source": [
    "with tf.variable_scope('layer1'):\n",
    "    # C1: N*227*227*3 => C11*11s4*4V => N*55*55*96\n",
    "    channels1 = 96\n",
    "    weight1 = tf.Variable(tf.truncated_normal([11, 11, channels0, channels1], stddev=0.01), name='weight1')\n",
    "    conv1 = tf.nn.conv2d(x_, filter=weight1, strides=[1, 4, 4, 1], padding='VALID')\n",
    "    # compare with bias\n",
    "    # bias1 = tf.Variable(tf.constant(0.1, dtype=tf.float32, shape=[channels1]))\n",
    "    # conv1 = tf.nn.bias_add(conv1, bias1)\n",
    "    # batch normalization\n",
    "    # y = (x - batch_mean) / sqrt(batch_var + epsilon)\n",
    "    # z = scale * y + offset\n",
    "    mean1 = tf.Variable(tf.zeros([channels1]), trainable=False, name='mean1')\n",
    "    var1 = tf.Variable(tf.ones([channels1]), trainable=False, name='var1')\n",
    "    epsilon1 = 0.0001\n",
    "    scale1 = tf.Variable(tf.ones([channels1]), name='scale1')\n",
    "    offset1 = tf.Variable(tf.zeros(channels1), name='offset1')\n",
    "    conv1 = tf.nn.batch_normalization(conv1, mean1, var1, offset1, scale1, epsilon1)\n",
    "    conv1 = tf.nn.relu(conv1)\n",
    "    logging.info('weight1: name=%s, shape=%s', weight1.name, weight1.shape.as_list())\n",
    "    logging.info('mean1: name=%s, shape=%s', mean1.name, mean1.shape.as_list())\n",
    "    logging.info('var1: name=%s, shape=%s', var1.name, var1.shape.as_list())\n",
    "    logging.info('scale1: name=%s, shape=%s', scale1.name, scale1.shape.as_list())\n",
    "    logging.info('offset1: name=%s, shape=%s', offset1.name, offset1.shape.as_list())\n",
    "    logging.info('conv1.shape: %s', conv1.shape.as_list())\n",
    "\n",
    "    # L1: N*55*55*96 => LRN => N*55*55*96 \n",
    "    # sqr_sum[a, b, c, d] = sum(input[a, b, c, d-depth_radius:d+depth_radius+1] ** 2)\n",
    "    # output = input / ((bias + alpha * sqr_sum) ** beta)\n",
    "    lrn1 = tf.nn.lrn(conv1, depth_radius=4, bias=1.0, alpha=0.001/9, beta=0.75)\n",
    "    logging.info('lrn1.shape: %s', lrn1.shape.as_list())\n",
    "\n",
    "    # P1: N*55*55*96 => P3*3s2*2V => N*27*27*96\n",
    "    pool1 = tf.nn.max_pool(lrn1, ksize=[1, 3, 3, 1], strides=[1, 2, 2, 1], padding='VALID')\n",
    "    logging.info('pool1.shape: %s', pool1.shape.as_list())\n"
   ]
  },
  {
   "cell_type": "markdown",
   "metadata": {},
   "source": [
    "### 2nd layer: conv2（bn） => lrn2 => pool2"
   ]
  },
  {
   "cell_type": "code",
   "execution_count": null,
   "metadata": {},
   "outputs": [],
   "source": [
    "with tf.variable_scope('layer2'):\n",
    "    # C2: N*27*27*96 => C5*5s1*1S => N*27*27*256\n",
    "    channels2 = 256\n",
    "    weight2 = tf.Variable(tf.truncated_normal([5, 5, channels1, channels2], stddev=0.01), name='weight2')\n",
    "    conv2 = tf.nn.conv2d(pool1, filter=weight2, strides=[1, 1, 1, 1], padding='SAME')\n",
    "    # compare with bias\n",
    "    # bias2 = tf.Variable(tf.constant(0.1, dtype=tf.float32, shape=[channels2]))\n",
    "    # conv2 = tf.nn.bias_add(conv2, bias2)\n",
    "    # batch normalization\n",
    "    # y = (x - batch_mean) / sqrt(batch_var + epsilon)\n",
    "    # z = scale * y + offset\n",
    "    mean2 = tf.Variable(tf.zeros([channels2]), trainable=False, name='mean2')\n",
    "    var2 = tf.Variable(tf.ones([channels2]), trainable=False, name='var2')\n",
    "    epsilon2 = 0.0001\n",
    "    scale2 = tf.Variable(tf.ones([channels2]), name='scale2')\n",
    "    offset2 = tf.Variable(tf.zeros(channels2), name='offset2')\n",
    "    conv2 = tf.nn.batch_normalization(conv2, mean2, var2, offset2, scale2, epsilon2)\n",
    "    conv2 = tf.nn.relu(conv2)\n",
    "    logging.info('weight2: name=%s, shape=%s', weight2.name, weight2.shape.as_list())\n",
    "    logging.info('mean2: name=%s, shape=%s', mean2.name, mean2.shape.as_list())\n",
    "    logging.info('var2: name=%s, shape=%s', var2.name, var2.shape.as_list())\n",
    "    logging.info('scale2: name=%s, shape=%s', scale2.name, scale2.shape.as_list())\n",
    "    logging.info('offset2: name=%s, shape=%s', offset2.name, offset2.shape.as_list())\n",
    "    logging.info('conv2.shape: %s', conv2.shape.as_list())\n",
    "\n",
    "    # L2: N*27*27*256 => LRN => N*27*27*256 \n",
    "    # sqr_sum[a, b, c, d] = sum(input[a, b, c, d-depth_radius:d + depth_radius+1] ** 2)\n",
    "    # output = input / ((bias + alpha * sqr_sum) ** beta)\n",
    "    lrn2 = tf.nn.lrn(conv2, depth_radius=4, bias=1.0, alpha=0.001/9, beta=0.75)\n",
    "    logging.info('lrn2.shape: %s', lrn2.shape.as_list())\n",
    "\n",
    "    # P2: N*27*27*256 => P3*3s2*2V => N*13*13*256\n",
    "    pool2 = tf.nn.max_pool(lrn2, ksize=[1, 3, 3, 1], strides=[1, 2, 2, 1], padding='VALID')\n",
    "    logging.info('pool2.shape: %s', pool2.shape.as_list())"
   ]
  },
  {
   "cell_type": "markdown",
   "metadata": {},
   "source": [
    "### 3rd layer: conv3(bn)"
   ]
  },
  {
   "cell_type": "code",
   "execution_count": null,
   "metadata": {},
   "outputs": [],
   "source": [
    "with tf.variable_scope('layer3'):\n",
    "    # C3: N*13*13*256 => C3*3s1*1S => N*13*13*384\n",
    "    channels3 = 384\n",
    "    weight3 = tf.Variable(tf.truncated_normal([3, 3, channels2, channels3], stddev=0.01), name='weight3')\n",
    "    conv3 = tf.nn.conv2d(pool2, filter=weight3, strides=[1, 1, 1, 1], padding='SAME')\n",
    "    # compare with bias\n",
    "    # bias3 = tf.Variable(tf.constant(0.1, dtype=tf.float32, shape=[channels3]))\n",
    "    # conv3 = tf.nn.bias_add(conv3, bias3)\n",
    "    # batch normalization\n",
    "    # y = (x - batch_mean) / sqrt(batch_var + epsilon)\n",
    "    # z = scale * y + offset\n",
    "    mean3 = tf.Variable(tf.zeros([channels3]), trainable=False, name='mean3')\n",
    "    var3 = tf.Variable(tf.ones([channels3]), trainable=False, name='var3')\n",
    "    epsilon3 = 0.0001\n",
    "    scale3 = tf.Variable(tf.ones([channels3]), name='scale3')\n",
    "    offset3 = tf.Variable(tf.zeros(channels3), name='offset3')\n",
    "    conv3 = tf.nn.batch_normalization(conv3, mean3, var3, offset3, scale3, epsilon3)\n",
    "    conv3 = tf.nn.relu(conv3)\n",
    "    logging.info('weight3: name=%s, shape=%s', weight3.name, weight3.shape.as_list())\n",
    "    logging.info('mean3: name=%s, shape=%s', mean3.name, mean3.shape.as_list())\n",
    "    logging.info('var3: name=%s, shape=%s', var3.name, var3.shape.as_list())\n",
    "    logging.info('scale3: name=%s, shape=%s', scale3.name, scale3.shape.as_list())\n",
    "    logging.info('offset3: name=%s, shape=%s', offset3.name, offset3.shape.as_list())\n",
    "    logging.info('conv3.shape: %s', conv3.shape.as_list())"
   ]
  },
  {
   "cell_type": "markdown",
   "metadata": {},
   "source": [
    "### 4th layer: conv4(bn)"
   ]
  },
  {
   "cell_type": "code",
   "execution_count": null,
   "metadata": {},
   "outputs": [],
   "source": [
    "with tf.variable_scope('layer4'):\n",
    "    # C4: N*13*13*384 => C3*3s1*1S => N*13*13*384\n",
    "    channels4 = 384\n",
    "    weight4 = tf.Variable(tf.truncated_normal([3, 3, channels3, channels4], stddev=0.01), name='weight4')\n",
    "    conv4 = tf.nn.conv2d(conv3, filter=weight4, strides=[1, 1, 1, 1], padding='SAME')\n",
    "    # compare with bias\n",
    "    # bias4 = tf.Variable(tf.constant(0.1, dtype=tf.float32, shape=[channels4]))\n",
    "    # conv4 = tf.nn.bias_add(conv4, bias4)\n",
    "    # batch normalization\n",
    "    # y = (x - batch_mean) / sqrt(batch_var + epsilon)\n",
    "    # z = scale * y + offset\n",
    "    mean4 = tf.Variable(tf.zeros([channels4]), trainable=False, name='mean4')\n",
    "    var4 = tf.Variable(tf.ones([channels4]), trainable=False, name='var4')\n",
    "    epsilon4 = 0.0001\n",
    "    scale4 = tf.Variable(tf.ones([channels4]), name='scale4')\n",
    "    offset4 = tf.Variable(tf.zeros(channels4), name='offset4')\n",
    "    conv4 = tf.nn.batch_normalization(conv4, mean4, var4, offset4, scale4, epsilon4)\n",
    "    conv4 = tf.nn.relu(conv4)\n",
    "    logging.info('weight4: name=%s, shape=%s', weight4.name, weight4.shape.as_list())\n",
    "    logging.info('mean4: name=%s, shape=%s', mean4.name, mean4.shape.as_list())\n",
    "    logging.info('var4: name=%s, shape=%s', var4.name, var4.shape.as_list())\n",
    "    logging.info('scale4: name=%s, shape=%s', scale4.name, scale4.shape.as_list())\n",
    "    logging.info('offset4: name=%s, shape=%s', offset4.name, offset4.shape.as_list())\n",
    "    logging.info('conv4.shape: %s', conv4.shape.as_list())"
   ]
  },
  {
   "cell_type": "markdown",
   "metadata": {},
   "source": [
    "### 5th layer: conv5(bn) => pool5 => reshape5"
   ]
  },
  {
   "cell_type": "code",
   "execution_count": null,
   "metadata": {},
   "outputs": [],
   "source": [
    "with tf.variable_scope('layer5'):\n",
    "    # C5: N*13*13*384 => C3*3s1*1S => N*13*13*256\n",
    "    channels5 = 256\n",
    "    weight5 = tf.Variable(tf.truncated_normal([3, 3, channels4, channels5], stddev=0.01), name='weight5')\n",
    "    conv5 = tf.nn.conv2d(conv4, filter=weight5, strides=[1, 1, 1, 1], padding='SAME')\n",
    "    # compare with bias\n",
    "    # bias5 = tf.Variable(tf.constant(0.1, dtype=tf.float32, shape=[channels5]))\n",
    "    # conv5 = tf.nn.bias_add(conv5, bias5)\n",
    "    # batch normalization\n",
    "    # y = (x - batch_mean) / sqrt(batch_var + epsilon)\n",
    "    # z = scale * y + offset\n",
    "    mean5 = tf.Variable(tf.zeros([channels5]), trainable=False, name='mean5')\n",
    "    var5 = tf.Variable(tf.ones([channels5]), trainable=False, name='var5')\n",
    "    epsilon5 = 0.0001\n",
    "    scale5 = tf.Variable(tf.ones([channels5]), name='scale5')\n",
    "    offset5 = tf.Variable(tf.zeros(channels5), name='offset5')\n",
    "    conv5 = tf.nn.batch_normalization(conv5, mean5, var5, offset5, scale5, epsilon5)\n",
    "    conv5 = tf.nn.relu(conv5)\n",
    "    logging.info('weight5: name=%s, shape=%s', weight5.name, weight5.shape.as_list())\n",
    "    logging.info('mean5: name=%s, shape=%s', mean5.name, mean5.shape.as_list())\n",
    "    logging.info('var5: name=%s, shape=%s', var5.name, var5.shape.as_list())\n",
    "    logging.info('scale5: name=%s, shape=%s', scale5.name, scale5.shape.as_list())\n",
    "    logging.info('offset5: name=%s, shape=%s', offset5.name, offset5.shape.as_list())\n",
    "    logging.info('conv5.shape: %s', conv5.shape.as_list())\n",
    "\n",
    "    # P5: N*13*13*256 => P3*3s2*2V => N*6*6*256\n",
    "    pool5 = tf.nn.max_pool(conv5, ksize=[1, 3, 3, 1], strides=[1, 2, 2, 1], padding='VALID')\n",
    "    logging.info('pool5.shape: %s', pool5.shape.as_list())\n",
    "\n",
    "    # R5: N*6*6*256 => Reshape => N*9216\n",
    "    nodes5 = 6 * 6 * 256\n",
    "    reshape5 = tf.reshape(pool5, [-1, nodes5])\n",
    "    logging.info('reshape5.shape: %s', reshape5.shape.as_list())"
   ]
  },
  {
   "cell_type": "markdown",
   "metadata": {},
   "source": [
    "### 6th layer: full6(bn) => drop6"
   ]
  },
  {
   "cell_type": "code",
   "execution_count": null,
   "metadata": {},
   "outputs": [],
   "source": [
    "with tf.variable_scope('layer6'):\n",
    "    # F6: N*9216 => N*4096\n",
    "    nodes6 = 4096\n",
    "    weight6 = tf.Variable(tf.truncated_normal([nodes5, nodes6], stddev=0.1), name='weight6')\n",
    "    full6 = tf.matmul(reshape5, weight6)\n",
    "    # compare with bias\n",
    "    # bias6 = tf.Variable(tf.constant(0.1, dtype=tf.float32, shape=[nodes6]))\n",
    "    # full6 = tf.nn.bias_add(full6, bias6)\n",
    "    # batch normalization\n",
    "    # y = (x - batch_mean) / sqrt(batch_var + epsilon)\n",
    "    # z = scale * y + offset\n",
    "    mean6 = tf.Variable(tf.zeros([nodes6]), trainable=False, name='mean6')\n",
    "    var6 = tf.Variable(tf.ones([nodes6]), trainable=False, name='var6')\n",
    "    epsilon6 = 0.0001\n",
    "    scale6 = tf.Variable(tf.ones([nodes6]), name='scale6')\n",
    "    offset6 = tf.Variable(tf.zeros(nodes6), name='offset6')\n",
    "    full6 = tf.nn.batch_normalization(full6, mean6, var6, offset6, scale6, epsilon6)\n",
    "    full6 = tf.nn.relu(full6)\n",
    "    logging.info('weight6: name=%s, shape=%s', weight6.name, weight6.shape.as_list())\n",
    "    logging.info('mean6: name=%s, shape=%s', mean6.name, mean6.shape.as_list())\n",
    "    logging.info('var6: name=%s, shape=%s', var6.name, var6.shape.as_list())\n",
    "    logging.info('scale6: name=%s, shape=%s', scale6.name, scale6.shape.as_list())\n",
    "    logging.info('offset6: name=%s, shape=%s', offset6.name, offset6.shape.as_list())\n",
    "    logging.info('full6.shape: %s', full6.shape.as_list())\n",
    "\n",
    "    # D6: N*4096 => N*4096\n",
    "    # the dropped elements become 0, and the kept elements scaled \n",
    "    # up by 1/keep_prob, which will unchange the expected sum.\n",
    "    keep_prob6 = 0.5\n",
    "    drop6 = tf.nn.dropout(full6, keep_prob6)\n",
    "    logging.info('drop6.shape: %s', drop6.shape.as_list())"
   ]
  },
  {
   "cell_type": "markdown",
   "metadata": {},
   "source": [
    "### 7th layer: full7(bn) => drop7"
   ]
  },
  {
   "cell_type": "code",
   "execution_count": null,
   "metadata": {},
   "outputs": [],
   "source": [
    "with tf.variable_scope('layer7'):\n",
    "    # F7: N*4096 => N*2048\n",
    "    nodes7 = 2048\n",
    "    weight7 = tf.Variable(tf.truncated_normal([nodes6, nodes7], stddev=0.1), name='weight7')\n",
    "    full7 = tf.matmul(drop6, weight7)\n",
    "    # compare with bias\n",
    "    # bias7 = tf.Variable(tf.constant(0.1, dtype=tf.float32, shape=[nodes7]))\n",
    "    # full7 = tf.nn.bias_add(full7, bias7)\n",
    "    # batch normalization\n",
    "    # y = (x - batch_mean) / sqrt(batch_var + epsilon)\n",
    "    # z = scale * y + offset\n",
    "    mean7 = tf.Variable(tf.zeros([nodes7]), trainable=False, name='mean7')\n",
    "    var7 = tf.Variable(tf.ones([nodes7]), trainable=False, name='var7')\n",
    "    epsilon7 = 0.0001\n",
    "    scale7 = tf.Variable(tf.ones([nodes7]), name='scale7')\n",
    "    offset7 = tf.Variable(tf.zeros(nodes7), name='offset7')\n",
    "    full7 = tf.nn.batch_normalization(full7, mean7, var7, offset7, scale7, epsilon7)\n",
    "    full7 = tf.nn.relu(full7)\n",
    "    logging.info('weight7: name=%s, shape=%s', weight7.name, weight7.shape.as_list())\n",
    "    logging.info('mean7: name=%s, shape=%s', mean7.name, mean7.shape.as_list())\n",
    "    logging.info('var7: name=%s, shape=%s', var7.name, var7.shape.as_list())\n",
    "    logging.info('scale7: name=%s, shape=%s', scale7.name, scale7.shape.as_list())\n",
    "    logging.info('offset7: name=%s, shape=%s', offset7.name, offset7.shape.as_list())\n",
    "    logging.info('full7.shape: %s', full7.shape.as_list())\n",
    "\n",
    "    # D7: N*2048 => N*2048\n",
    "    # the dropped elements become 0, and the kept elements scaled \n",
    "    # up by 1/keep_prob, which will unchange the expected sum.\n",
    "    keep_prob7 = 0.5\n",
    "    drop7 = tf.nn.dropout(full7, keep_prob7)\n",
    "    logging.info('drop7.shape: %s', drop7.shape.as_list())"
   ]
  },
  {
   "cell_type": "markdown",
   "metadata": {},
   "source": [
    "### 8th layer: full8(bn)"
   ]
  },
  {
   "cell_type": "code",
   "execution_count": null,
   "metadata": {},
   "outputs": [],
   "source": [
    "with tf.variable_scope('layer8'):\n",
    "    # F8: N*2048 => N*2\n",
    "    nodes8 = n_classes\n",
    "    weight8 = tf.Variable(tf.truncated_normal([nodes7, nodes8], stddev=0.1), name='weight8')\n",
    "    full8 = tf.matmul(drop7, weight8)\n",
    "    # compare with bias\n",
    "    bias8 = tf.Variable(tf.constant(0.1, dtype=tf.float32, shape=[nodes8]), name='bias8')\n",
    "    full8 = tf.nn.bias_add(full8, bias8)\n",
    "    logging.info('weight8: name=%s, shape=%s', bias8.name, bias8.shape.as_list())\n",
    "    logging.info('bias8: name=%s, shape=%s', bias8.name, bias8.shape.as_list())\n",
    "    logging.info('full8.shape: %s', full8.shape.as_list())"
   ]
  },
  {
   "cell_type": "markdown",
   "metadata": {},
   "source": [
    "### output layer: softmax"
   ]
  },
  {
   "cell_type": "code",
   "execution_count": null,
   "metadata": {},
   "outputs": [],
   "source": [
    "y = tf.nn.softmax(full8)\n",
    "logging.info('y.shape: %s', y.shape.as_list())"
   ]
  },
  {
   "cell_type": "markdown",
   "metadata": {},
   "source": [
    "### predict"
   ]
  },
  {
   "cell_type": "code",
   "execution_count": null,
   "metadata": {},
   "outputs": [],
   "source": [
    "def predict(image):\n",
    "    image_one_list = image.reshape(-1, *image.shape)\n",
    "    with tf.Session() as sess:\n",
    "        #sess.run(tf.global_variables_initializer())\n",
    "        model = tf.train.latest_checkpoint(save_dir)\n",
    "        saver = tf.train.Saver()\n",
    "        saver.restore(sess, model)\n",
    "        y_predict = sess.run(y, {x_:image_one_list})\n",
    "        id_predict = np.argmax(y_predict)\n",
    "        name_predict = id_name_map[id_predict]\n",
    "        logging.info('y_predict=%s, id_predict=%d, name_predict=%s', y_predict, id_predict, name_predict)\n",
    "        plt.figure()\n",
    "        plt.imshow(image)\n",
    "        plt.title(\"it's a %s\"%(name_predict))\n",
    "    return name_predict"
   ]
  },
  {
   "cell_type": "code",
   "execution_count": null,
   "metadata": {},
   "outputs": [],
   "source": [
    "for image_path in glob.glob(os.path.join(test_dir, '*.jpg')):\n",
    "    image = cv2.imread(image_path)\n",
    "    image = cv2.resize(image, size)\n",
    "    label_predict = predict(image)\n",
    "    logging.info('image: %s, label_predict: %s', image_path, label_predict)"
   ]
  }
 ],
 "metadata": {
  "kernelspec": {
   "display_name": "Python 2",
   "language": "python",
   "name": "python2"
  },
  "language_info": {
   "codemirror_mode": {
    "name": "ipython",
    "version": 2
   },
   "file_extension": ".py",
   "mimetype": "text/x-python",
   "name": "python",
   "nbconvert_exporter": "python",
   "pygments_lexer": "ipython2",
   "version": "2.7.12"
  }
 },
 "nbformat": 4,
 "nbformat_minor": 2
}
